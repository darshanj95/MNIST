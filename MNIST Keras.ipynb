{
 "cells": [
  {
   "cell_type": "markdown",
   "metadata": {},
   "source": [
    "# Testing out COVNET with Keras on MNIST Dataset"
   ]
  },
  {
   "cell_type": "code",
   "execution_count": 1,
   "metadata": {},
   "outputs": [],
   "source": [
    "import numpy as np\n",
    "from tensorflow import keras\n",
    "from tensorflow.keras import layers"
   ]
  },
  {
   "cell_type": "code",
   "execution_count": 2,
   "metadata": {
    "scrolled": true
   },
   "outputs": [
    {
     "name": "stdout",
     "output_type": "stream",
     "text": [
      "Size of training dataset: 60000\n",
      "Size of test dataset: 10000\n",
      "Shape of image: (60000, 28, 28, 1)\n"
     ]
    }
   ],
   "source": [
    "(X_train, y_train),(X_test,y_test) = keras.datasets.mnist.load_data()\n",
    "input_shape = (28,28,1)\n",
    "num_classes = 10\n",
    "print('Size of training dataset:', X_train.shape[0])\n",
    "print('Size of test dataset:', X_test.shape[0])\n",
    "X_train = np.expand_dims(X_train,-1)\n",
    "X_test = np.expand_dims(X_test,-1)\n",
    "print('Shape of image:', X_train.shape)\n"
   ]
  },
  {
   "cell_type": "code",
   "execution_count": 3,
   "metadata": {},
   "outputs": [
    {
     "data": {
      "image/png": "[encoded data removed]",
      "text/plain": [
       "<Figure size 720x720 with 9 Axes>"
      ]
     },
     "metadata": {
      "needs_background": "light"
     },
     "output_type": "display_data"
    }
   ],
   "source": [
    "#Image Analysis\n",
    "import matplotlib.pyplot as plt\n",
    "plt.figure(figsize=(10,10))\n",
    "for i in range(9):\n",
    "        ax = plt.subplot(3, 3, i + 1)\n",
    "        plt.imshow(X_train[i])\n",
    "        plt.title(int(y_train[i]))\n",
    "        plt.axis(\"off\")"
   ]
  },
  {
   "cell_type": "code",
   "execution_count": 4,
   "metadata": {},
   "outputs": [],
   "source": [
    "#one-hot encoding\n",
    "y_train = keras.utils.to_categorical(y_train, num_classes)\n",
    "y_test = keras.utils.to_categorical(y_test, num_classes)"
   ]
  },
  {
   "cell_type": "markdown",
   "metadata": {},
   "source": [
    "# Build Model"
   ]
  },
  {
   "cell_type": "code",
   "execution_count": 5,
   "metadata": {},
   "outputs": [
    {
     "name": "stdout",
     "output_type": "stream",
     "text": [
      "Model: \"model\"\n",
      "_________________________________________________________________\n",
      "Layer (type)                 Output Shape              Param #   \n",
      "=================================================================\n",
      "input_1 (InputLayer)         [(None, 28, 28, 1)]       0         \n",
      "_________________________________________________________________\n",
      "conv2d (Conv2D)              (None, 26, 26, 32)        320       \n",
      "_________________________________________________________________\n",
      "max_pooling2d (MaxPooling2D) (None, 13, 13, 32)        0         \n",
      "_________________________________________________________________\n",
      "conv2d_1 (Conv2D)            (None, 11, 11, 64)        18496     \n",
      "_________________________________________________________________\n",
      "max_pooling2d_1 (MaxPooling2 (None, 5, 5, 64)          0         \n",
      "_________________________________________________________________\n",
      "flatten (Flatten)            (None, 1600)              0         \n",
      "_________________________________________________________________\n",
      "dropout (Dropout)            (None, 1600)              0         \n",
      "_________________________________________________________________\n",
      "dense (Dense)                (None, 10)                16010     \n",
      "=================================================================\n",
      "Total params: 34,826\n",
      "Trainable params: 34,826\n",
      "Non-trainable params: 0\n",
      "_________________________________________________________________\n"
     ]
    }
   ],
   "source": [
    "#Model\n",
    "def make_model(input_size, num_classes):\n",
    "    #input\n",
    "    inputs = keras.Input(shape=input_size)\n",
    "    \n",
    "    #preprocessing\n",
    "    x = layers.experimental.preprocessing.Rescaling(1./255)(inputs)\n",
    "    \n",
    "    #covnet\n",
    "    x = layers.Conv2D(32, kernel_size=(3, 3), activation=\"relu\")(inputs)\n",
    "    x = layers.MaxPooling2D(pool_size=(2, 2))(x)\n",
    "    x = layers.Conv2D(64, kernel_size=(3, 3), activation=\"relu\")(x)\n",
    "    x = layers.MaxPooling2D(pool_size=(2, 2))(x)\n",
    "    x = layers.Flatten()(x)\n",
    "    x = layers.Dropout(0.5)(x)\n",
    "    \n",
    "    #output\n",
    "    outputs = layers.Dense(num_classes, activation=\"softmax\")(x)\n",
    "    return keras.Model(inputs, outputs)\n",
    "\n",
    "model = make_model(input_size=input_shape, num_classes=num_classes)\n",
    "model.summary()\n"
   ]
  },
  {
   "cell_type": "markdown",
   "metadata": {},
   "source": [
    "# Train Model "
   ]
  },
  {
   "cell_type": "code",
   "execution_count": 6,
   "metadata": {},
   "outputs": [
    {
     "name": "stdout",
     "output_type": "stream",
     "text": [
      "Epoch 1/15\n",
      "422/422 [==============================] - 23s 53ms/step - loss: 4.2507 - accuracy: 0.7068 - val_loss: 0.0827 - val_accuracy: 0.9758\n",
      "Epoch 2/15\n",
      "422/422 [==============================] - 20s 47ms/step - loss: 0.1949 - accuracy: 0.9419 - val_loss: 0.0623 - val_accuracy: 0.9812\n",
      "Epoch 3/15\n",
      "422/422 [==============================] - 17s 39ms/step - loss: 0.1397 - accuracy: 0.9587 - val_loss: 0.0506 - val_accuracy: 0.9865\n",
      "Epoch 4/15\n",
      "422/422 [==============================] - 16s 39ms/step - loss: 0.1251 - accuracy: 0.9622 - val_loss: 0.0561 - val_accuracy: 0.9840\n",
      "Epoch 5/15\n",
      "422/422 [==============================] - 17s 40ms/step - loss: 0.1050 - accuracy: 0.9678 - val_loss: 0.0427 - val_accuracy: 0.9875\n",
      "Epoch 6/15\n",
      "422/422 [==============================] - 20s 48ms/step - loss: 0.0948 - accuracy: 0.9710 - val_loss: 0.0403 - val_accuracy: 0.9883\n",
      "Epoch 7/15\n",
      "422/422 [==============================] - 20s 48ms/step - loss: 0.0836 - accuracy: 0.9740 - val_loss: 0.0391 - val_accuracy: 0.9888\n",
      "Epoch 8/15\n",
      "422/422 [==============================] - 20s 48ms/step - loss: 0.0737 - accuracy: 0.9763 - val_loss: 0.0378 - val_accuracy: 0.9882\n",
      "Epoch 9/15\n",
      "422/422 [==============================] - 17s 40ms/step - loss: 0.0745 - accuracy: 0.9778 - val_loss: 0.0316 - val_accuracy: 0.9898\n",
      "Epoch 10/15\n",
      "422/422 [==============================] - 20s 48ms/step - loss: 0.0654 - accuracy: 0.9794 - val_loss: 0.0327 - val_accuracy: 0.9912\n",
      "Epoch 11/15\n",
      "422/422 [==============================] - 18s 42ms/step - loss: 0.0682 - accuracy: 0.9783 - val_loss: 0.0329 - val_accuracy: 0.9907\n",
      "Epoch 12/15\n",
      "422/422 [==============================] - 18s 42ms/step - loss: 0.0659 - accuracy: 0.9783 - val_loss: 0.0402 - val_accuracy: 0.9893\n",
      "Epoch 13/15\n",
      "422/422 [==============================] - 20s 47ms/step - loss: 0.0614 - accuracy: 0.9802 - val_loss: 0.0339 - val_accuracy: 0.9900\n",
      "Epoch 14/15\n",
      "422/422 [==============================] - 18s 42ms/step - loss: 0.0594 - accuracy: 0.9806 - val_loss: 0.0356 - val_accuracy: 0.9903\n",
      "Epoch 15/15\n",
      "422/422 [==============================] - 25s 58ms/step - loss: 0.0537 - accuracy: 0.9822 - val_loss: 0.0378 - val_accuracy: 0.9905\n"
     ]
    },
    {
     "data": {
      "text/plain": [
       "<tensorflow.python.keras.callbacks.History at 0x7ffc1643c040>"
      ]
     },
     "execution_count": 6,
     "metadata": {},
     "output_type": "execute_result"
    }
   ],
   "source": [
    "batch_size = 128\n",
    "epochs = 15\n",
    "\n",
    "model.compile(optimizer=\"adam\", loss=\"categorical_crossentropy\", metrics=[\"accuracy\"])\n",
    "model.fit(X_train, y_train, batch_size=batch_size, epochs=epochs, validation_split=0.1)\n"
   ]
  },
  {
   "cell_type": "markdown",
   "metadata": {},
   "source": [
    "# Test Model"
   ]
  },
  {
   "cell_type": "code",
   "execution_count": 7,
   "metadata": {},
   "outputs": [
    {
     "name": "stdout",
     "output_type": "stream",
     "text": [
      "313/313 [==============================] - 2s 6ms/step - loss: 0.0424 - accuracy: 0.9875\n",
      "Loss: 0.042418964207172394\n",
      "Accuracy: 0.987500011920929\n"
     ]
    }
   ],
   "source": [
    "score = model.evaluate(X_test,y_test)\n",
    "print('Loss:',score[0])\n",
    "print('Accuracy:',score[1])"
   ]
  }
 ],
 "metadata": {
  "kernelspec": {
   "display_name": "Python 3",
   "language": "python",
   "name": "python3"
  },
  "language_info": {
   "codemirror_mode": {
    "name": "ipython",
    "version": 3
   },
   "file_extension": ".py",
   "mimetype": "text/x-python",
   "name": "python",
   "nbconvert_exporter": "python",
   "pygments_lexer": "ipython3",
   "version": "3.8.5"
  }
 },
 "nbformat": 4,
 "nbformat_minor": 4
}
